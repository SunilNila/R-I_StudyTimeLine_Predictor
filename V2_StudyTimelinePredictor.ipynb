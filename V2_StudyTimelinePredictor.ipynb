{
 "cells": [
  {
   "cell_type": "code",
   "execution_count": 1,
   "metadata": {
    "colab": {
     "base_uri": "https://localhost:8080/",
     "height": 424
    },
    "id": "JGTA4W-AQqZS",
    "outputId": "2b12ecd8-0300-47b3-e00e-814dce5ded2d"
   },
   "outputs": [
    {
     "data": {
      "text/html": [
       "<div>\n",
       "<style scoped>\n",
       "    .dataframe tbody tr th:only-of-type {\n",
       "        vertical-align: middle;\n",
       "    }\n",
       "\n",
       "    .dataframe tbody tr th {\n",
       "        vertical-align: top;\n",
       "    }\n",
       "\n",
       "    .dataframe thead th {\n",
       "        text-align: right;\n",
       "    }\n",
       "</style>\n",
       "<table border=\"1\" class=\"dataframe\">\n",
       "  <thead>\n",
       "    <tr style=\"text-align: right;\">\n",
       "      <th></th>\n",
       "      <th>CSU</th>\n",
       "      <th>Description</th>\n",
       "      <th>Project_type</th>\n",
       "      <th>Approvals</th>\n",
       "      <th>Days_to_open</th>\n",
       "    </tr>\n",
       "  </thead>\n",
       "  <tbody>\n",
       "    <tr>\n",
       "      <th>0</th>\n",
       "      <td>Centre for Neurosciences</td>\n",
       "      <td>Adult</td>\n",
       "      <td>Non-commercial non-portfolio</td>\n",
       "      <td>1</td>\n",
       "      <td>331</td>\n",
       "    </tr>\n",
       "    <tr>\n",
       "      <th>1</th>\n",
       "      <td>Emergency and Specialty Medicine</td>\n",
       "      <td>Adult</td>\n",
       "      <td>Non-commercial non-portfolio</td>\n",
       "      <td>2</td>\n",
       "      <td>194</td>\n",
       "    </tr>\n",
       "    <tr>\n",
       "      <th>2</th>\n",
       "      <td>Centre for Neurosciences</td>\n",
       "      <td>Adult</td>\n",
       "      <td>Non-commercial portfolio</td>\n",
       "      <td>4</td>\n",
       "      <td>297</td>\n",
       "    </tr>\n",
       "    <tr>\n",
       "      <th>3</th>\n",
       "      <td>Oncology</td>\n",
       "      <td>Adult</td>\n",
       "      <td>Non-commercial portfolio</td>\n",
       "      <td>3</td>\n",
       "      <td>236</td>\n",
       "    </tr>\n",
       "    <tr>\n",
       "      <th>4</th>\n",
       "      <td>Oncology</td>\n",
       "      <td>Adult</td>\n",
       "      <td>Commercial portfolio</td>\n",
       "      <td>8</td>\n",
       "      <td>202</td>\n",
       "    </tr>\n",
       "    <tr>\n",
       "      <th>...</th>\n",
       "      <td>...</td>\n",
       "      <td>...</td>\n",
       "      <td>...</td>\n",
       "      <td>...</td>\n",
       "      <td>...</td>\n",
       "    </tr>\n",
       "    <tr>\n",
       "      <th>114</th>\n",
       "      <td>Cardio - Respiratory</td>\n",
       "      <td>Adult</td>\n",
       "      <td>Commercial portfolio</td>\n",
       "      <td>10</td>\n",
       "      <td>89</td>\n",
       "    </tr>\n",
       "    <tr>\n",
       "      <th>115</th>\n",
       "      <td>Head and Neck</td>\n",
       "      <td>Adult</td>\n",
       "      <td>Non-commercial portfolio</td>\n",
       "      <td>1</td>\n",
       "      <td>46</td>\n",
       "    </tr>\n",
       "    <tr>\n",
       "      <th>116</th>\n",
       "      <td>Women's Hospital</td>\n",
       "      <td>Adult</td>\n",
       "      <td>Non-commercial portfolio</td>\n",
       "      <td>3</td>\n",
       "      <td>91</td>\n",
       "    </tr>\n",
       "    <tr>\n",
       "      <th>117</th>\n",
       "      <td>Cardio - Respiratory</td>\n",
       "      <td>Adult</td>\n",
       "      <td>Non-commercial portfolio</td>\n",
       "      <td>2</td>\n",
       "      <td>64</td>\n",
       "    </tr>\n",
       "    <tr>\n",
       "      <th>118</th>\n",
       "      <td>Oncology</td>\n",
       "      <td>Adult</td>\n",
       "      <td>Non-commercial portfolio</td>\n",
       "      <td>5</td>\n",
       "      <td>78</td>\n",
       "    </tr>\n",
       "  </tbody>\n",
       "</table>\n",
       "<p>119 rows × 5 columns</p>\n",
       "</div>"
      ],
      "text/plain": [
       "                                  CSU Description  \\\n",
       "0            Centre for Neurosciences       Adult   \n",
       "1    Emergency and Specialty Medicine       Adult   \n",
       "2            Centre for Neurosciences       Adult   \n",
       "3                            Oncology       Adult   \n",
       "4                            Oncology       Adult   \n",
       "..                                ...         ...   \n",
       "114              Cardio - Respiratory       Adult   \n",
       "115                     Head and Neck       Adult   \n",
       "116                  Women's Hospital       Adult   \n",
       "117              Cardio - Respiratory       Adult   \n",
       "118                          Oncology       Adult   \n",
       "\n",
       "                     Project_type  Approvals  Days_to_open  \n",
       "0    Non-commercial non-portfolio          1           331  \n",
       "1    Non-commercial non-portfolio          2           194  \n",
       "2        Non-commercial portfolio          4           297  \n",
       "3        Non-commercial portfolio          3           236  \n",
       "4            Commercial portfolio          8           202  \n",
       "..                            ...        ...           ...  \n",
       "114          Commercial portfolio         10            89  \n",
       "115      Non-commercial portfolio          1            46  \n",
       "116      Non-commercial portfolio          3            91  \n",
       "117      Non-commercial portfolio          2            64  \n",
       "118      Non-commercial portfolio          5            78  \n",
       "\n",
       "[119 rows x 5 columns]"
      ]
     },
     "execution_count": 1,
     "metadata": {},
     "output_type": "execute_result"
    }
   ],
   "source": [
    "import pandas as pd\n",
    "import matplotlib.pyplot as plt\n",
    "pd.options.mode.chained_assignment = None \n",
    "\n",
    "\n",
    "df = pd.read_csv('Data.csv')\n",
    "df"
   ]
  },
  {
   "cell_type": "code",
   "execution_count": 2,
   "metadata": {
    "colab": {
     "base_uri": "https://localhost:8080/"
    },
    "id": "-DPTEdQcTWZT",
    "outputId": "081ec268-b934-44b1-b4fb-310fcbecce0d"
   },
   "outputs": [
    {
     "data": {
      "text/plain": [
       "CSU             0\n",
       "Description     0\n",
       "Project_type    0\n",
       "Approvals       0\n",
       "Days_to_open    0\n",
       "dtype: int64"
      ]
     },
     "execution_count": 2,
     "metadata": {},
     "output_type": "execute_result"
    }
   ],
   "source": [
    "df.isnull().sum()"
   ]
  },
  {
   "cell_type": "code",
   "execution_count": 3,
   "metadata": {
    "colab": {
     "base_uri": "https://localhost:8080/",
     "height": 49
    },
    "id": "Sy6BP8s2uQw7",
    "outputId": "ff2e14ef-cca7-411f-d2bb-e49bfa6e5072"
   },
   "outputs": [
    {
     "data": {
      "text/html": [
       "<div>\n",
       "<style scoped>\n",
       "    .dataframe tbody tr th:only-of-type {\n",
       "        vertical-align: middle;\n",
       "    }\n",
       "\n",
       "    .dataframe tbody tr th {\n",
       "        vertical-align: top;\n",
       "    }\n",
       "\n",
       "    .dataframe thead th {\n",
       "        text-align: right;\n",
       "    }\n",
       "</style>\n",
       "<table border=\"1\" class=\"dataframe\">\n",
       "  <thead>\n",
       "    <tr style=\"text-align: right;\">\n",
       "      <th></th>\n",
       "      <th>CSU</th>\n",
       "      <th>Description</th>\n",
       "      <th>Project_type</th>\n",
       "      <th>Approvals</th>\n",
       "      <th>Days_to_open</th>\n",
       "    </tr>\n",
       "  </thead>\n",
       "  <tbody>\n",
       "  </tbody>\n",
       "</table>\n",
       "</div>"
      ],
      "text/plain": [
       "Empty DataFrame\n",
       "Columns: [CSU, Description, Project_type, Approvals, Days_to_open]\n",
       "Index: []"
      ]
     },
     "execution_count": 3,
     "metadata": {},
     "output_type": "execute_result"
    }
   ],
   "source": [
    "#check for outliers\n",
    "outlier = df.loc[df['Days_to_open'] <=5]\n",
    "outlier"
   ]
  },
  {
   "cell_type": "code",
   "execution_count": 4,
   "metadata": {
    "colab": {
     "base_uri": "https://localhost:8080/"
    },
    "id": "ckeeaprNu8Ya",
    "outputId": "8399d1a3-e380-4073-da83-25589547af29"
   },
   "outputs": [
    {
     "name": "stdout",
     "output_type": "stream",
     "text": [
      "<class 'pandas.core.frame.DataFrame'>\n",
      "RangeIndex: 119 entries, 0 to 118\n",
      "Data columns (total 5 columns):\n",
      " #   Column        Non-Null Count  Dtype \n",
      "---  ------        --------------  ----- \n",
      " 0   CSU           119 non-null    object\n",
      " 1   Description   119 non-null    object\n",
      " 2   Project_type  119 non-null    object\n",
      " 3   Approvals     119 non-null    int64 \n",
      " 4   Days_to_open  119 non-null    int64 \n",
      "dtypes: int64(2), object(3)\n",
      "memory usage: 4.8+ KB\n"
     ]
    }
   ],
   "source": [
    "df.info()"
   ]
  },
  {
   "cell_type": "code",
   "execution_count": 5,
   "metadata": {
    "colab": {
     "base_uri": "https://localhost:8080/"
    },
    "id": "4d87xVWiu_55",
    "outputId": "3c367e15-4223-45e1-c522-c30ea8f5042c"
   },
   "outputs": [
    {
     "data": {
      "text/plain": [
       "Oncology                            29\n",
       "Abdominal Medicine and Surgery      22\n",
       "Cardio - Respiratory                18\n",
       "Children's                          15\n",
       "Centre for Neurosciences             9\n",
       "Women's Hospital                     5\n",
       "Head and Neck                        4\n",
       "Emergency and Specialty Medicine     4\n",
       "Adult Theatres & Anaesthesia         3\n",
       "Radiology                            2\n",
       "Adult Critical Care                  2\n",
       "Trauma & Related Services            2\n",
       "Pathology                            2\n",
       "Adult Therapies                      1\n",
       "Chapel Allerton Hospital             1\n",
       "Name: CSU, dtype: int64"
      ]
     },
     "execution_count": 5,
     "metadata": {},
     "output_type": "execute_result"
    }
   ],
   "source": [
    "df.CSU.value_counts()"
   ]
  },
  {
   "cell_type": "code",
   "execution_count": 6,
   "metadata": {
    "id": "MfWriAgVuQ5c"
   },
   "outputs": [],
   "source": [
    "#'Other' function - for CSU's with less than 2 counts\n",
    "def shorten_categories (categories, cutoff):\n",
    "  categorical_map = {}\n",
    "  for i in range(len(categories)):\n",
    "    if categories.values[i] >= cutoff:\n",
    "      categorical_map[categories.index[i]] = categories.index[i]\n",
    "    else:\n",
    "      categorical_map[categories.index[i]] = 'Other'\n",
    "  return categorical_map"
   ]
  },
  {
   "cell_type": "code",
   "execution_count": 7,
   "metadata": {
    "id": "G2CxWHzdv9Aq"
   },
   "outputs": [],
   "source": [
    "csu_map = shorten_categories(df.CSU.value_counts(),2)\n",
    "df['CSU'] = df['CSU'].map(csu_map)"
   ]
  },
  {
   "cell_type": "code",
   "execution_count": 8,
   "metadata": {
    "colab": {
     "base_uri": "https://localhost:8080/"
    },
    "id": "liS72QOvw-Pt",
    "outputId": "e351a47a-a391-47cc-d95c-a7be87a5a4cc"
   },
   "outputs": [
    {
     "data": {
      "text/plain": [
       "Oncology                            29\n",
       "Abdominal Medicine and Surgery      22\n",
       "Cardio - Respiratory                18\n",
       "Children's                          15\n",
       "Centre for Neurosciences             9\n",
       "Women's Hospital                     5\n",
       "Head and Neck                        4\n",
       "Emergency and Specialty Medicine     4\n",
       "Adult Theatres & Anaesthesia         3\n",
       "Radiology                            2\n",
       "Adult Critical Care                  2\n",
       "Other                                2\n",
       "Trauma & Related Services            2\n",
       "Pathology                            2\n",
       "Name: CSU, dtype: int64"
      ]
     },
     "execution_count": 8,
     "metadata": {},
     "output_type": "execute_result"
    }
   ],
   "source": [
    "df.CSU.value_counts()"
   ]
  },
  {
   "cell_type": "code",
   "execution_count": 9,
   "metadata": {
    "colab": {
     "base_uri": "https://localhost:8080/"
    },
    "id": "CgbIyPXw3vN-",
    "outputId": "be244f52-3800-4237-e1f0-ee6a038aedb8"
   },
   "outputs": [
    {
     "name": "stdout",
     "output_type": "stream",
     "text": [
      "162.52941176470588\n"
     ]
    }
   ],
   "source": [
    "#Mean / Standard Deviation\n",
    "#Mean \n",
    "mean = df['Days_to_open'].mean()\n",
    "print(mean)"
   ]
  },
  {
   "cell_type": "code",
   "execution_count": 10,
   "metadata": {
    "colab": {
     "base_uri": "https://localhost:8080/"
    },
    "id": "hUDiswVy323e",
    "outputId": "748e176a-4ced-4778-ae14-5be4a269cdf7"
   },
   "outputs": [
    {
     "name": "stdout",
     "output_type": "stream",
     "text": [
      "101.28001321469942\n"
     ]
    }
   ],
   "source": [
    "#Standard Deviation\n",
    "standard_deviation = df['Days_to_open'].std()\n",
    "print(standard_deviation)"
   ]
  },
  {
   "cell_type": "code",
   "execution_count": 11,
   "metadata": {
    "colab": {
     "base_uri": "https://localhost:8080/"
    },
    "id": "bN8PLFyZ4DYH",
    "outputId": "3b212530-6458-4809-884d-064a575148d8"
   },
   "outputs": [
    {
     "name": "stdout",
     "output_type": "stream",
     "text": [
      "0.6231488326637316\n"
     ]
    }
   ],
   "source": [
    "#coeficient \n",
    "print(standard_deviation/mean)"
   ]
  },
  {
   "cell_type": "code",
   "execution_count": 12,
   "metadata": {
    "colab": {
     "base_uri": "https://localhost:8080/",
     "height": 700
    },
    "id": "nFo0qXe14Gpb",
    "outputId": "92739035-448e-4b65-f34c-560afbb313d5"
   },
   "outputs": [
    {
     "data": {
      "image/png": "[encoded data removed]",
      "text/plain": [
       "<Figure size 864x504 with 1 Axes>"
      ]
     },
     "metadata": {
      "needs_background": "light"
     },
     "output_type": "display_data"
    }
   ],
   "source": [
    "#box plot\n",
    "# circles are outliers\n",
    "#boxes are median vaues\n",
    "fig, ax = plt.subplots(1,1, figsize=(12,7))\n",
    "df.boxplot('Days_to_open', 'CSU', ax=ax)\n",
    "plt.suptitle('Days to Open v CSU')\n",
    "plt.title('')\n",
    "plt.ylabel('Days_to_open')\n",
    "plt.xticks(rotation=90)\n",
    "plt.show()"
   ]
  },
  {
   "cell_type": "code",
   "execution_count": 13,
   "metadata": {
    "id": "O0IZ1N5O7hMT"
   },
   "outputs": [],
   "source": [
    "#Enhance box plot - exclude Days to Open where values > 300 days\n",
    "df = df[df['Days_to_open'] <= 300] "
   ]
  },
  {
   "cell_type": "code",
   "execution_count": 14,
   "metadata": {
    "colab": {
     "base_uri": "https://localhost:8080/",
     "height": 700
    },
    "id": "kwae7LNB7p1_",
    "outputId": "3add6f05-99c3-40fb-be69-3d32cf4040d1"
   },
   "outputs": [
    {
     "data": {
      "image/png": "[encoded data removed]",
      "text/plain": [
       "<Figure size 864x504 with 1 Axes>"
      ]
     },
     "metadata": {
      "needs_background": "light"
     },
     "output_type": "display_data"
    }
   ],
   "source": [
    "#box plot\n",
    "# circles are outliers\n",
    "#boxes are median vaues\n",
    "fig, ax = plt.subplots(1,1, figsize=(12,7))\n",
    "df.boxplot('Days_to_open', 'CSU', ax=ax)\n",
    "plt.suptitle('Days to Open v CSU')\n",
    "plt.title('')\n",
    "plt.ylabel('Days_to_open')\n",
    "plt.xticks(rotation=90)\n",
    "plt.show()"
   ]
  },
  {
   "cell_type": "code",
   "execution_count": 15,
   "metadata": {
    "colab": {
     "base_uri": "https://localhost:8080/"
    },
    "id": "xQB115zP9w7Q",
    "outputId": "8b31bc32-4a97-40b2-c6d4-fb871248fc6c"
   },
   "outputs": [
    {
     "data": {
      "text/plain": [
       "array([ 2,  4,  3,  8,  1,  7,  5,  9, 20,  6, 10, 14, 16, 12],\n",
       "      dtype=int64)"
      ]
     },
     "execution_count": 15,
     "metadata": {},
     "output_type": "execute_result"
    }
   ],
   "source": [
    "#count of approvals\n",
    "df['Approvals'].unique()"
   ]
  },
  {
   "cell_type": "code",
   "execution_count": 16,
   "metadata": {
    "colab": {
     "base_uri": "https://localhost:8080/"
    },
    "id": "H3h345gd_GAa",
    "outputId": "0bcf4359-a190-4d3d-810c-0622c6016373"
   },
   "outputs": [
    {
     "data": {
      "text/plain": [
       "CSU             object\n",
       "Description     object\n",
       "Project_type    object\n",
       "Approvals        int64\n",
       "Days_to_open     int64\n",
       "dtype: object"
      ]
     },
     "execution_count": 16,
     "metadata": {},
     "output_type": "execute_result"
    }
   ],
   "source": [
    "df.dtypes"
   ]
  },
  {
   "cell_type": "code",
   "execution_count": 17,
   "metadata": {
    "id": "wmPrpuUt-uTI"
   },
   "outputs": [],
   "source": [
    "#where approvals > 10, change to more than 10\n",
    "def clean_approvals(x):\n",
    "  if x >= 10:\n",
    "    return 10\n",
    "  return float(x)\n",
    "\n",
    "df['Approvals'] = df['Approvals'].apply(clean_approvals) "
   ]
  },
  {
   "cell_type": "code",
   "execution_count": 18,
   "metadata": {
    "colab": {
     "base_uri": "https://localhost:8080/"
    },
    "id": "9UsQ68iDB2B4",
    "outputId": "08eaa9eb-7e6c-42ce-8844-cd54bab6601e"
   },
   "outputs": [
    {
     "data": {
      "text/plain": [
       "1.0     41\n",
       "2.0     23\n",
       "3.0     10\n",
       "10.0     9\n",
       "5.0      9\n",
       "4.0      8\n",
       "6.0      5\n",
       "9.0      3\n",
       "7.0      2\n",
       "8.0      2\n",
       "Name: Approvals, dtype: int64"
      ]
     },
     "execution_count": 18,
     "metadata": {},
     "output_type": "execute_result"
    }
   ],
   "source": [
    "df.Approvals.value_counts()"
   ]
  },
  {
   "cell_type": "code",
   "execution_count": 19,
   "metadata": {
    "id": "TuH23uudIKR5"
   },
   "outputs": [],
   "source": [
    "#transform string columns to be interpreted by ML \n",
    "#CSU\n",
    "from sklearn.preprocessing import LabelEncoder\n",
    "le_CSU = LabelEncoder()\n",
    "df['CSU'] = le_CSU.fit_transform(df['CSU'])"
   ]
  },
  {
   "cell_type": "code",
   "execution_count": 20,
   "metadata": {
    "colab": {
     "base_uri": "https://localhost:8080/"
    },
    "id": "hQpSqyuxHcsd",
    "outputId": "11c69f3c-7d18-4cb2-82c5-20e236d8aa38"
   },
   "outputs": [
    {
     "data": {
      "text/plain": [
       "array([ 6,  4,  8,  5,  1, 11,  0,  3,  9, 13,  7, 12, 10,  2])"
      ]
     },
     "execution_count": 20,
     "metadata": {},
     "output_type": "execute_result"
    }
   ],
   "source": [
    "df.CSU.unique()"
   ]
  },
  {
   "cell_type": "code",
   "execution_count": 21,
   "metadata": {
    "id": "MlQxtv0EIbUU"
   },
   "outputs": [],
   "source": [
    "le_description = LabelEncoder()\n",
    "df['Description'] = le_description.fit_transform(df['Description'])"
   ]
  },
  {
   "cell_type": "code",
   "execution_count": 22,
   "metadata": {
    "colab": {
     "base_uri": "https://localhost:8080/"
    },
    "id": "-PO6IgwcIoHL",
    "outputId": "63d25564-5e07-42be-9142-48a2e363a87c"
   },
   "outputs": [
    {
     "data": {
      "text/plain": [
       "array([0, 1])"
      ]
     },
     "execution_count": 22,
     "metadata": {},
     "output_type": "execute_result"
    }
   ],
   "source": [
    "df.Description.unique()"
   ]
  },
  {
   "cell_type": "code",
   "execution_count": 23,
   "metadata": {
    "id": "PJhZXnvdIPzB"
   },
   "outputs": [],
   "source": [
    "le_projectType = LabelEncoder()\n",
    "df['Project_type'] = le_projectType.fit_transform(df['Project_type'])"
   ]
  },
  {
   "cell_type": "code",
   "execution_count": 24,
   "metadata": {
    "colab": {
     "base_uri": "https://localhost:8080/"
    },
    "id": "UUqPQVrNI0sz",
    "outputId": "0c0a8c12-2c3b-4db0-af84-82b79f0d8b72"
   },
   "outputs": [
    {
     "data": {
      "text/plain": [
       "array([3, 4, 2, 1, 0])"
      ]
     },
     "execution_count": 24,
     "metadata": {},
     "output_type": "execute_result"
    }
   ],
   "source": [
    "df.Project_type.unique()"
   ]
  },
  {
   "cell_type": "code",
   "execution_count": 25,
   "metadata": {
    "id": "rDtwXSybJEV2"
   },
   "outputs": [],
   "source": [
    "#Start of ML Model"
   ]
  },
  {
   "cell_type": "code",
   "execution_count": 26,
   "metadata": {
    "id": "dtXCP8pRJFCG"
   },
   "outputs": [],
   "source": [
    "#features = x \n",
    "#prediction = y\n",
    "X = df.drop(\"Days_to_open\", axis=1)\n",
    "y = df['Days_to_open']"
   ]
  },
  {
   "cell_type": "code",
   "execution_count": 27,
   "metadata": {
    "id": "MVmkDT0nJjQs"
   },
   "outputs": [],
   "source": [
    "#Linear Regression Model"
   ]
  },
  {
   "cell_type": "code",
   "execution_count": 28,
   "metadata": {
    "colab": {
     "base_uri": "https://localhost:8080/"
    },
    "id": "SYzKi7eyJleG",
    "outputId": "25978308-9b58-4fba-caa2-9929ad8c295b"
   },
   "outputs": [
    {
     "data": {
      "text/plain": [
       "LinearRegression()"
      ]
     },
     "execution_count": 28,
     "metadata": {},
     "output_type": "execute_result"
    }
   ],
   "source": [
    "from sklearn.linear_model import LinearRegression\n",
    "linear_reg = LinearRegression()\n",
    "linear_reg.fit(X, y.values)"
   ]
  },
  {
   "cell_type": "code",
   "execution_count": 29,
   "metadata": {
    "id": "o3pIq19ILajJ"
   },
   "outputs": [],
   "source": [
    "y_pred = linear_reg.predict(X)"
   ]
  },
  {
   "cell_type": "code",
   "execution_count": 30,
   "metadata": {
    "id": "9C3EQGxqLl0r"
   },
   "outputs": [],
   "source": [
    "#illustrates how much the output will be away from the mean on average\n",
    "from sklearn.metrics import mean_squared_error, mean_absolute_error\n",
    "import numpy as np\n",
    "error = np.sqrt(mean_squared_error(y, y_pred))"
   ]
  },
  {
   "cell_type": "code",
   "execution_count": 31,
   "metadata": {
    "colab": {
     "base_uri": "https://localhost:8080/"
    },
    "id": "LB_MMCHCLwDm",
    "outputId": "5fe613e5-3d02-4eb5-96e8-6eab3fc1e526"
   },
   "outputs": [
    {
     "name": "stdout",
     "output_type": "stream",
     "text": [
      "65\n"
     ]
    }
   ],
   "source": [
    "print(round(error))"
   ]
  },
  {
   "cell_type": "code",
   "execution_count": 32,
   "metadata": {
    "id": "P4Nwa7NoL4oE"
   },
   "outputs": [],
   "source": [
    "#Decision Tree Regressor"
   ]
  },
  {
   "cell_type": "code",
   "execution_count": 33,
   "metadata": {
    "colab": {
     "base_uri": "https://localhost:8080/"
    },
    "id": "tn3xUcYlL7xD",
    "outputId": "fd696207-d66b-477f-f8f0-30ff649117fb"
   },
   "outputs": [
    {
     "data": {
      "text/plain": [
       "DecisionTreeRegressor(random_state=0)"
      ]
     },
     "execution_count": 33,
     "metadata": {},
     "output_type": "execute_result"
    }
   ],
   "source": [
    "from sklearn.tree import DecisionTreeRegressor\n",
    "dec_tree_reg = DecisionTreeRegressor(random_state=0)\n",
    "dec_tree_reg.fit(X,y.values)"
   ]
  },
  {
   "cell_type": "code",
   "execution_count": 34,
   "metadata": {
    "id": "pG3YI0d-L9ZW"
   },
   "outputs": [],
   "source": [
    "y_pred = dec_tree_reg.predict(X)"
   ]
  },
  {
   "cell_type": "code",
   "execution_count": 35,
   "metadata": {
    "colab": {
     "base_uri": "https://localhost:8080/"
    },
    "id": "a_wfmPh6MAyK",
    "outputId": "36047e8c-8484-496e-8e27-72e4c53456d2"
   },
   "outputs": [
    {
     "name": "stdout",
     "output_type": "stream",
     "text": [
      "38\n"
     ]
    }
   ],
   "source": [
    "# error\n",
    "error = np.sqrt(mean_squared_error(y, y_pred))\n",
    "print(round(error))"
   ]
  },
  {
   "cell_type": "code",
   "execution_count": 36,
   "metadata": {
    "colab": {
     "base_uri": "https://localhost:8080/"
    },
    "id": "KuhofUxDMJgk",
    "outputId": "57d49c34-c40a-427e-b0d1-0b4c3ece4a88"
   },
   "outputs": [
    {
     "data": {
      "text/plain": [
       "RandomForestRegressor(random_state=0)"
      ]
     },
     "execution_count": 36,
     "metadata": {},
     "output_type": "execute_result"
    }
   ],
   "source": [
    "#random forrest regressor\n",
    "from sklearn.ensemble import RandomForestRegressor\n",
    "random_forest_reg = RandomForestRegressor(random_state=0)\n",
    "random_forest_reg.fit(X, y.values)"
   ]
  },
  {
   "cell_type": "code",
   "execution_count": 37,
   "metadata": {
    "id": "9ICXF8-nMisX"
   },
   "outputs": [],
   "source": [
    "y_pred = random_forest_reg.predict(X)"
   ]
  },
  {
   "cell_type": "code",
   "execution_count": 38,
   "metadata": {
    "colab": {
     "base_uri": "https://localhost:8080/"
    },
    "id": "uLIPA5gEMkdt",
    "outputId": "957553fe-a6e4-4591-e105-4cb3e8f96b01"
   },
   "outputs": [
    {
     "name": "stdout",
     "output_type": "stream",
     "text": [
      "43\n"
     ]
    }
   ],
   "source": [
    "error = np.sqrt(mean_squared_error(y, y_pred))\n",
    "print(round(error))"
   ]
  },
  {
   "cell_type": "code",
   "execution_count": 39,
   "metadata": {
    "colab": {
     "base_uri": "https://localhost:8080/"
    },
    "id": "26K374ubNGMs",
    "outputId": "5d6da8c9-1d3f-4848-ee4f-11e33a1b3d25"
   },
   "outputs": [
    {
     "data": {
      "text/plain": [
       "GridSearchCV(estimator=DecisionTreeRegressor(random_state=0),\n",
       "             param_grid={'max_depth': [None, 2, 4, 6, 8, 10, 12]},\n",
       "             scoring='neg_mean_squared_error')"
      ]
     },
     "execution_count": 39,
     "metadata": {},
     "output_type": "execute_result"
    }
   ],
   "source": [
    "#Grid Search Cross Validation - evaluates best model for ML\n",
    "from sklearn.model_selection import GridSearchCV\n",
    "\n",
    "max_depth = [None, 2,4,6,8,10,12]\n",
    "parameters = {\"max_depth\": max_depth}\n",
    "\n",
    "regressor = DecisionTreeRegressor(random_state=0)\n",
    "gs = GridSearchCV(regressor, parameters, scoring='neg_mean_squared_error')\n",
    "gs.fit(X, y.values)"
   ]
  },
  {
   "cell_type": "code",
   "execution_count": 40,
   "metadata": {
    "colab": {
     "base_uri": "https://localhost:8080/"
    },
    "id": "GyZK9Mf0NYSi",
    "outputId": "1fb946f3-0332-4b17-ec98-c9e4a3e17492"
   },
   "outputs": [
    {
     "name": "stdout",
     "output_type": "stream",
     "text": [
      "63\n"
     ]
    }
   ],
   "source": [
    "regressor = gs.best_estimator_\n",
    "\n",
    "regressor.fit(X, y.values)\n",
    "y_pred = regressor.predict(X)\n",
    "error = np.sqrt(mean_squared_error(y, y_pred))\n",
    "print(round(error))"
   ]
  },
  {
   "cell_type": "code",
   "execution_count": 41,
   "metadata": {
    "colab": {
     "base_uri": "https://localhost:8080/",
     "height": 424
    },
    "id": "hmU1ZMQDNtVZ",
    "outputId": "79aca220-fa53-4174-abe4-595b54d06ae9"
   },
   "outputs": [
    {
     "data": {
      "text/html": [
       "<div>\n",
       "<style scoped>\n",
       "    .dataframe tbody tr th:only-of-type {\n",
       "        vertical-align: middle;\n",
       "    }\n",
       "\n",
       "    .dataframe tbody tr th {\n",
       "        vertical-align: top;\n",
       "    }\n",
       "\n",
       "    .dataframe thead th {\n",
       "        text-align: right;\n",
       "    }\n",
       "</style>\n",
       "<table border=\"1\" class=\"dataframe\">\n",
       "  <thead>\n",
       "    <tr style=\"text-align: right;\">\n",
       "      <th></th>\n",
       "      <th>CSU</th>\n",
       "      <th>Description</th>\n",
       "      <th>Project_type</th>\n",
       "      <th>Approvals</th>\n",
       "    </tr>\n",
       "  </thead>\n",
       "  <tbody>\n",
       "    <tr>\n",
       "      <th>1</th>\n",
       "      <td>6</td>\n",
       "      <td>0</td>\n",
       "      <td>3</td>\n",
       "      <td>2.0</td>\n",
       "    </tr>\n",
       "    <tr>\n",
       "      <th>2</th>\n",
       "      <td>4</td>\n",
       "      <td>0</td>\n",
       "      <td>4</td>\n",
       "      <td>4.0</td>\n",
       "    </tr>\n",
       "    <tr>\n",
       "      <th>3</th>\n",
       "      <td>8</td>\n",
       "      <td>0</td>\n",
       "      <td>4</td>\n",
       "      <td>3.0</td>\n",
       "    </tr>\n",
       "    <tr>\n",
       "      <th>4</th>\n",
       "      <td>8</td>\n",
       "      <td>0</td>\n",
       "      <td>2</td>\n",
       "      <td>8.0</td>\n",
       "    </tr>\n",
       "    <tr>\n",
       "      <th>5</th>\n",
       "      <td>8</td>\n",
       "      <td>0</td>\n",
       "      <td>4</td>\n",
       "      <td>1.0</td>\n",
       "    </tr>\n",
       "    <tr>\n",
       "      <th>...</th>\n",
       "      <td>...</td>\n",
       "      <td>...</td>\n",
       "      <td>...</td>\n",
       "      <td>...</td>\n",
       "    </tr>\n",
       "    <tr>\n",
       "      <th>114</th>\n",
       "      <td>3</td>\n",
       "      <td>0</td>\n",
       "      <td>2</td>\n",
       "      <td>10.0</td>\n",
       "    </tr>\n",
       "    <tr>\n",
       "      <th>115</th>\n",
       "      <td>7</td>\n",
       "      <td>0</td>\n",
       "      <td>4</td>\n",
       "      <td>1.0</td>\n",
       "    </tr>\n",
       "    <tr>\n",
       "      <th>116</th>\n",
       "      <td>13</td>\n",
       "      <td>0</td>\n",
       "      <td>4</td>\n",
       "      <td>3.0</td>\n",
       "    </tr>\n",
       "    <tr>\n",
       "      <th>117</th>\n",
       "      <td>3</td>\n",
       "      <td>0</td>\n",
       "      <td>4</td>\n",
       "      <td>2.0</td>\n",
       "    </tr>\n",
       "    <tr>\n",
       "      <th>118</th>\n",
       "      <td>8</td>\n",
       "      <td>0</td>\n",
       "      <td>4</td>\n",
       "      <td>5.0</td>\n",
       "    </tr>\n",
       "  </tbody>\n",
       "</table>\n",
       "<p>112 rows × 4 columns</p>\n",
       "</div>"
      ],
      "text/plain": [
       "     CSU  Description  Project_type  Approvals\n",
       "1      6            0             3        2.0\n",
       "2      4            0             4        4.0\n",
       "3      8            0             4        3.0\n",
       "4      8            0             2        8.0\n",
       "5      8            0             4        1.0\n",
       "..   ...          ...           ...        ...\n",
       "114    3            0             2       10.0\n",
       "115    7            0             4        1.0\n",
       "116   13            0             4        3.0\n",
       "117    3            0             4        2.0\n",
       "118    8            0             4        5.0\n",
       "\n",
       "[112 rows x 4 columns]"
      ]
     },
     "execution_count": 41,
     "metadata": {},
     "output_type": "execute_result"
    }
   ],
   "source": [
    "X"
   ]
  },
  {
   "cell_type": "code",
   "execution_count": 42,
   "metadata": {
    "colab": {
     "base_uri": "https://localhost:8080/"
    },
    "id": "j0Gc5cuLOHsB",
    "outputId": "72bba5a3-5575-469b-919a-67e30db37777"
   },
   "outputs": [
    {
     "data": {
      "text/plain": [
       "array([['Oncology', 'Adult', 'Commercial portfolio', '8']], dtype='<U20')"
      ]
     },
     "execution_count": 42,
     "metadata": {},
     "output_type": "execute_result"
    }
   ],
   "source": [
    "# CSU, Description, ProjectType, Approvals\n",
    "X = np.array([['Oncology', 'Adult', 'Commercial portfolio', 8]])\n",
    "X"
   ]
  },
  {
   "cell_type": "code",
   "execution_count": 43,
   "metadata": {
    "colab": {
     "base_uri": "https://localhost:8080/"
    },
    "id": "cX96AhkBOvGf",
    "outputId": "d31892fa-b71f-45e9-af94-aad038ad9a09"
   },
   "outputs": [
    {
     "data": {
      "text/plain": [
       "array([[8., 0., 2., 8.]])"
      ]
     },
     "execution_count": 43,
     "metadata": {},
     "output_type": "execute_result"
    }
   ],
   "source": [
    "X[:, 0] = le_CSU.transform(X[:,0])\n",
    "X[:, 1] = le_description.transform(X[:,1])\n",
    "X[:, 2] = le_projectType.transform(X[:,2])\n",
    "X = X.astype(float)\n",
    "X"
   ]
  },
  {
   "cell_type": "code",
   "execution_count": 44,
   "metadata": {
    "colab": {
     "base_uri": "https://localhost:8080/"
    },
    "id": "ROEqpfzZPhHa",
    "outputId": "a272edd2-4a4a-4b54-f46f-5ff54de2e306"
   },
   "outputs": [
    {
     "data": {
      "text/plain": [
       "array([171.02857143])"
      ]
     },
     "execution_count": 44,
     "metadata": {},
     "output_type": "execute_result"
    }
   ],
   "source": [
    "#predict with above information\n",
    "y_pred = regressor.predict(X)\n",
    "y_pred"
   ]
  },
  {
   "cell_type": "code",
   "execution_count": 45,
   "metadata": {
    "id": "dG2j4-jgPtcV"
   },
   "outputs": [],
   "source": [
    "import pickle"
   ]
  },
  {
   "cell_type": "code",
   "execution_count": 46,
   "metadata": {
    "id": "iWLE4XsfPwla"
   },
   "outputs": [],
   "source": [
    "data = {'model': regressor, 'le_CSU': le_CSU, 'le_description': le_description, 'le_projectType': le_projectType}\n",
    "with open('saved_steps.pkl', 'wb') as file:\n",
    "  pickle.dump(data, file)"
   ]
  },
  {
   "cell_type": "code",
   "execution_count": 47,
   "metadata": {
    "id": "69cY3tBcQPOd"
   },
   "outputs": [],
   "source": [
    "with open('saved_steps.pkl', 'rb') as file:\n",
    "  data = pickle.load(file)\n",
    "\n",
    "regressor_loaded = data['model']\n",
    "le_CSU = data['le_CSU']\n",
    "le_description = data['le_description']\n",
    "le_projectType = data['le_projectType']"
   ]
  },
  {
   "cell_type": "code",
   "execution_count": 48,
   "metadata": {
    "colab": {
     "base_uri": "https://localhost:8080/"
    },
    "id": "BIUhti5LQjTF",
    "outputId": "8456b6fe-36a1-4d13-fa4c-5337742a406e"
   },
   "outputs": [
    {
     "data": {
      "text/plain": [
       "array([171.02857143])"
      ]
     },
     "execution_count": 48,
     "metadata": {},
     "output_type": "execute_result"
    }
   ],
   "source": [
    "y_pred = regressor_loaded.predict(X)\n",
    "y_pred"
   ]
  }
 ],
 "metadata": {
  "colab": {
   "collapsed_sections": [],
   "name": "V2_StudyTimelinePredictor.ipynb",
   "provenance": []
  },
  "kernelspec": {
   "display_name": "Python 3",
   "language": "python",
   "name": "python3"
  },
  "language_info": {
   "codemirror_mode": {
    "name": "ipython",
    "version": 3
   },
   "file_extension": ".py",
   "mimetype": "text/x-python",
   "name": "python",
   "nbconvert_exporter": "python",
   "pygments_lexer": "ipython3",
   "version": "3.8.5"
  }
 },
 "nbformat": 4,
 "nbformat_minor": 1
}
